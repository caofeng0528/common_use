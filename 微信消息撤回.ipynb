{
 "cells": [
  {
   "cell_type": "code",
   "execution_count": 12,
   "id": "c791b6c9",
   "metadata": {},
   "outputs": [],
   "source": [
    "import itchat\n",
    "from itchat.content import *\n",
    "import os\n",
    "import time\n",
    "import xml.dom.minidom    # 解析xml模块"
   ]
  },
  {
   "cell_type": "code",
   "execution_count": 11,
   "id": "9b8b24c6",
   "metadata": {},
   "outputs": [
    {
     "name": "stderr",
     "output_type": "stream",
     "text": [
      "Getting uuid of QR code.\n",
      "Downloading QR code.\n",
      "Please scan the QR code to log in.\n",
      "Please press confirm on your phone.\n",
      "Your wechat account may be LIMITED to log in WEB wechat, error info:\n",
      "<error><ret>1203</ret><message>由于安全原因，此微信号不能使用网页版微信。你可以使用 Windows 版微信或 Mac 版微信登录。Windows 版微信下载地址：https://pc.weixin.qq.com  Mac 版微信下载地址：https://mac.weixin.qq.com</message></error>\n"
     ]
    }
   ],
   "source": [
    "# 这是保存撤回消息的文件目录(如：图片、语音等)，这里已经写死了，大家可以自行修改\n",
    "temp = 'D:/文件/撤回' + '/' + '撤回的消息'\n",
    "if not os.path.exists(temp):\n",
    "    os.mkdir(temp)\n",
    "\n",
    "itchat.auto_login(True)    # 自动登录\n",
    "\n",
    "dict = {}    # 定义一个字典\n",
    "\n",
    "\n",
    "# 这是一个装饰器，给下面的函数添加新功能\n",
    "# 能够捕获好友发送的消息，并传递给函数参数msg\n",
    "@itchat.msg_register([TEXT, PICTURE, FRIENDS, CARD, MAP, SHARING, RECORDING, ATTACHMENT, VIDEO])  # 文本，语音，图片\n",
    "def resever_info(msg):\n",
    "    global dict    # 声明全局变量\n",
    "\n",
    "    info = msg['Text']  # 取出消息内容\n",
    "    msgId = msg['MsgId']  # 取出消息标识\n",
    "    info_type = msg['Type']  # 取出消息类型\n",
    "    name = msg['FileName']  # 取出消息文件名\n",
    "    # 取出消息发送者标识并从好友列表中检索\n",
    "    fromUser = itchat.search_friends(userName=msg['FromUserName'])['NickName']\n",
    "    ticks = msg['CreateTime']  # 获取信息发送的时间\n",
    "    time_local = time.localtime(ticks)\n",
    "    dt = time.strftime(\"%Y-%m-%d %H:%M:%S\", time_local)  # 格式化日期\n",
    "    # 将消息标识和消息内容添加到字典\n",
    "    # 每一条消息的唯一标识作为键，消息的具体信息作为值，也是一个字典\n",
    "    dict[msgId] = {\"info\": info, \"info_type\": info_type, \"name\": name, \"fromUser\": fromUser, \"dt\": dt}\n",
    "\n",
    "\n",
    "@itchat.msg_register(NOTE)  # 监听系统提示\n",
    "def note_info(msg):\n",
    "    # 监听到好友撤回了一条消息\n",
    "    if '撤回了一条消息' in msg['Text']:\n",
    "        # 获取系统消息中的Content结点值\n",
    "        content = msg['Content']\n",
    "        # Content值为xml，解析xml\n",
    "        doc = xml.dom.minidom.parseString(content)\n",
    "        # 取出msgid标签的值\n",
    "        result = doc.getElementsByTagName(\"msgid\")\n",
    "        # 该msgId就是撤回的消息标识，通过它可以在字典中找到撤回的消息信息\n",
    "        msgId = result[0].childNodes[0].nodeValue\n",
    "        # 从字典中取出对应消息标识的消息类型\n",
    "        msg_type = dict[msgId]['info_type']\n",
    "        if msg_type == 'Recording':    # 撤回的消息为语音\n",
    "            recording_info = dict[msgId]['info']  # 取出消息标识对应的消息内容\n",
    "            info_name = dict[msgId]['name'] # 取出消息文件名\n",
    "            fromUser = dict[msgId]['fromUser'] # 取出发送者\n",
    "            dt = dict[msgId]['dt'] # 取出发送时间\n",
    "            recording_info(temp + '/' + info_name) # 保存语音\n",
    "            # 拼接提示消息\n",
    "            send_msg = '【发送人:】' + fromUser + '\\n' + '发送时间:' + dt + '\\n' + '撤回了一条语音'\n",
    "            itchat.send(send_msg, 'filehelper') # 将提示消息发送给文件助手\n",
    "            # 发送保存的语音\n",
    "            itchat.send_file(temp + '/' + info_name, 'filehelper')\n",
    "            del dict[msgId] # 删除字典中对应的消息\n",
    "            print(\"保存语音\")\n",
    "        elif msg_type == 'Text':\n",
    "            text_info = dict[msgId]['info'] # 取出消息标识对应的消息内容\n",
    "            fromUser = dict[msgId]['fromUser'] # 取出发送者\n",
    "            dt = dict[msgId]['dt'] # 取出发送时间\n",
    "            # 拼接提示消息\n",
    "            send_msg = '【发送人:】' + fromUser + '\\n' + '发送时间:' + dt + '\\n' + '撤回内容:' + text_info\n",
    "            # 将提示消息发送给文件助手\n",
    "            itchat.send(send_msg, 'filehelper')\n",
    "            del dict[msgId] # 删除字典中对应的消息\n",
    "            print(\"保存文本\")\n",
    "        elif msg_type == 'Picture':\n",
    "            picture_info = dict[msgId]['info'] # 取出消息标识对应的消息内容\n",
    "            fromUser = dict[msgId]['fromUser'] # 取出发送者\n",
    "            dt = dict[msgId]['dt'] # 取出发送时间\n",
    "            info_name = dict[msgId]['name'] # 取出文件名\n",
    "            picture_info(temp + '/' + info_name) # 保存图片\n",
    "            # 拼接提示消息\n",
    "            send_msg = '【发送人:】' + fromUser + '\\n' + '发送时间:' + dt + '\\n' + '撤回了一张图片'\n",
    "            itchat.send(send_msg, 'filehelper') # 将图片发送给文件助手\n",
    "            # 发送保存的语音\n",
    "            itchat.send_file(temp + '/' + info_name, 'filehelper')\n",
    "            del dict[msgId] # 删除字典中对应的消息 \n",
    "            print(\"保存图片\")"
   ]
  },
  {
   "cell_type": "code",
   "execution_count": null,
   "id": "703f2db4",
   "metadata": {},
   "outputs": [],
   "source": []
  }
 ],
 "metadata": {
  "kernelspec": {
   "display_name": "Python 3",
   "language": "python",
   "name": "python3"
  },
  "language_info": {
   "codemirror_mode": {
    "name": "ipython",
    "version": 3
   },
   "file_extension": ".py",
   "mimetype": "text/x-python",
   "name": "python",
   "nbconvert_exporter": "python",
   "pygments_lexer": "ipython3",
   "version": "3.8.10"
  }
 },
 "nbformat": 4,
 "nbformat_minor": 5
}
