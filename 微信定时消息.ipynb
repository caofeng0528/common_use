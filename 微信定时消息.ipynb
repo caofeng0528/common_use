{
 "cells": [
  {
   "cell_type": "code",
   "execution_count": null,
   "id": "365509c8",
   "metadata": {},
   "outputs": [],
   "source": [
    "import pyautogui\n",
    "import pyperclip\n",
    "from datetime import datetime\n",
    "from apscheduler.schedulers.blocking import BlockingScheduler\n",
    "\n",
    "def main():\n",
    "    pyautogui.PAUSE = 0\n",
    "\n",
    "    icon_position = pyautogui.Point(x=514, y=690) # 任务栏图标位置\n",
    "    entry_position = pyautogui.Point(x=514, y=690) # 输入框位置\n",
    "\n",
    "    pyautogui.moveTo(icon_position, duration=1) # duration为执行时长，可选\n",
    "    pyautogui.click(icon_position)\n",
    "    pyautogui.moveTo(entry_position, duration=0.7)\n",
    "    pyautogui.click(entry_position)\n",
    "    pyperclip.copy('456')\n",
    "    pyautogui.hotkey('ctrl', 'v')\n",
    "    pyautogui.press('enter')\n",
    "    pyperclip.copy('123')\n",
    "    pyautogui.hotkey('ctrl', 'v')\n",
    "    pyautogui.press('enter')\n",
    "    \n",
    "scheduler = BlockingScheduler() # 实例化\n",
    "scheduler.add_job(main, 'date', run_date=datetime(2021, 10, 20, 11, 22, 00)) # 添加任务\n",
    "scheduler.start()"
   ]
  },
  {
   "cell_type": "code",
   "execution_count": 1,
   "id": "098ba74c",
   "metadata": {},
   "outputs": [
    {
     "name": "stdout",
     "output_type": "stream",
     "text": [
      "Point(x=514, y=690)\n"
     ]
    }
   ],
   "source": [
    "import pyautogui\n",
    "print(pyautogui.position()) # 打印坐标，Point(x=148, y=879)\n",
    "icon_position = pyautogui.position() # Point(x=148, y=879)"
   ]
  },
  {
   "cell_type": "code",
   "execution_count": null,
   "id": "b3f87c81",
   "metadata": {},
   "outputs": [],
   "source": []
  }
 ],
 "metadata": {
  "kernelspec": {
   "display_name": "Python 3",
   "language": "python",
   "name": "python3"
  },
  "language_info": {
   "codemirror_mode": {
    "name": "ipython",
    "version": 3
   },
   "file_extension": ".py",
   "mimetype": "text/x-python",
   "name": "python",
   "nbconvert_exporter": "python",
   "pygments_lexer": "ipython3",
   "version": "3.8.10"
  }
 },
 "nbformat": 4,
 "nbformat_minor": 5
}
