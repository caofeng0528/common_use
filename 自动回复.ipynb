{
 "cells": [
  {
   "cell_type": "code",
   "execution_count": 1,
   "id": "11aac867",
   "metadata": {
    "collapsed": true
   },
   "outputs": [
    {
     "name": "stdout",
     "output_type": "stream",
     "text": [
      "█\r"
     ]
    },
    {
     "name": "stderr",
     "output_type": "stream",
     "text": [
      "Getting uuid of QR code.\n",
      "Downloading QR code.\n",
      "Please scan the QR code to log in.\n",
      "Please press confirm on your phone.\n",
      "Your wechat account may be LIMITED to log in WEB wechat, error info:\n",
      "<error><ret>1203</ret><message>由于安全原因，此微信号不能使用网页版微信。你可以使用 Windows 版微信或 Mac 版微信登录。Windows 版微信下载地址：https://pc.weixin.qq.com  Mac 版微信下载地址：https://mac.weixin.qq.com</message></error>\n",
      "Start auto replying.\n"
     ]
    }
   ],
   "source": [
    "import itchat\n",
    "import requests\n",
    "\n",
    "import requests\n",
    "import itchat\n",
    "\n",
    "KEY = '614afe81ff964a1109bbdb53c8298f921'  # KEY为图灵机器人的api密钥，自己可以去官网申请  \n",
    "# '9bfb8444a1324d82bfc15ba46e6ca3c2'\n",
    "# 'd5d1200c30f043e5abb14d3fbe9a2659'\n",
    "# '8edce3ce905a4c1dbb965e6b35c3838f'\n",
    "# '21813a76b34546eeb9b487d12cca9a9d'\n",
    "\n",
    "def get_response(msg):\n",
    "    apiUrl = 'http://www.tuling123.com/openapi/api'\n",
    "    data = {\n",
    "        'userid': 'wechat-robot',\n",
    "        'key': KEY,\n",
    "        'info': msg,\n",
    "    }\n",
    "    try:\n",
    "        r = requests.post(apiUrl, data=data).json()\n",
    "        return r.get('text')\n",
    "    except:\n",
    "        return\n",
    "\n",
    "\n",
    "@itchat.msg_register(itchat.content.TEXT)\n",
    "def tuling_reply(msg):\n",
    "    defaultReply = 'I received: ' + msg['Text']\n",
    "    reply = get_response(msg['Text'])\n",
    "    return reply or defaultReply\n",
    "\n",
    "\n",
    "itchat.auto_login(hotReload=True)\n",
    "itchat.run()"
   ]
  },
  {
   "cell_type": "code",
   "execution_count": 2,
   "id": "362578de",
   "metadata": {
    "collapsed": true
   },
   "outputs": [
    {
     "name": "stderr",
     "output_type": "stream",
     "text": [
      "Getting uuid of QR code.\n",
      "Downloading QR code.\n",
      "Please scan the QR code to log in.\n",
      "Please press confirm on your phone.\n",
      "Your wechat account may be LIMITED to log in WEB wechat, error info:\n",
      "<error><ret>1203</ret><message>由于安全原因，此微信号不能使用网页版微信。你可以使用 Windows 版微信或 Mac 版微信登录。Windows 版微信下载地址：https://pc.weixin.qq.com  Mac 版微信下载地址：https://mac.weixin.qq.com</message></error>\n"
     ]
    },
    {
     "ename": "KeyError",
     "evalue": "'skey'",
     "output_type": "error",
     "traceback": [
      "\u001b[1;31m---------------------------------------------------------------------------\u001b[0m",
      "\u001b[1;31mKeyError\u001b[0m                                  Traceback (most recent call last)",
      "\u001b[1;32m<ipython-input-2-5654ead57ed3>\u001b[0m in \u001b[0;36m<module>\u001b[1;34m\u001b[0m\n\u001b[0;32m     19\u001b[0m \u001b[1;33m\u001b[0m\u001b[0m\n\u001b[0;32m     20\u001b[0m     \u001b[1;31m# 获取自己的UserName\u001b[0m\u001b[1;33m\u001b[0m\u001b[1;33m\u001b[0m\u001b[1;33m\u001b[0m\u001b[0m\n\u001b[1;32m---> 21\u001b[1;33m     \u001b[0mmyUserName\u001b[0m \u001b[1;33m=\u001b[0m \u001b[0mitchat\u001b[0m\u001b[1;33m.\u001b[0m\u001b[0mget_friends\u001b[0m\u001b[1;33m(\u001b[0m\u001b[0mupdate\u001b[0m\u001b[1;33m=\u001b[0m\u001b[1;32mTrue\u001b[0m\u001b[1;33m)\u001b[0m\u001b[1;33m[\u001b[0m\u001b[1;36m0\u001b[0m\u001b[1;33m]\u001b[0m\u001b[1;33m[\u001b[0m\u001b[1;34m\"UserName\"\u001b[0m\u001b[1;33m]\u001b[0m\u001b[1;33m\u001b[0m\u001b[1;33m\u001b[0m\u001b[0m\n\u001b[0m\u001b[0;32m     22\u001b[0m     \u001b[0mitchat\u001b[0m\u001b[1;33m.\u001b[0m\u001b[0mrun\u001b[0m\u001b[1;33m(\u001b[0m\u001b[1;33m)\u001b[0m\u001b[1;33m\u001b[0m\u001b[1;33m\u001b[0m\u001b[0m\n",
      "\u001b[1;32m~\\anaconda3\\lib\\site-packages\\itchat\\components\\contact.py\u001b[0m in \u001b[0;36mget_friends\u001b[1;34m(self, update)\u001b[0m\n\u001b[0;32m    304\u001b[0m \u001b[1;32mdef\u001b[0m \u001b[0mget_friends\u001b[0m\u001b[1;33m(\u001b[0m\u001b[0mself\u001b[0m\u001b[1;33m,\u001b[0m \u001b[0mupdate\u001b[0m\u001b[1;33m=\u001b[0m\u001b[1;32mFalse\u001b[0m\u001b[1;33m)\u001b[0m\u001b[1;33m:\u001b[0m\u001b[1;33m\u001b[0m\u001b[1;33m\u001b[0m\u001b[0m\n\u001b[0;32m    305\u001b[0m     \u001b[1;32mif\u001b[0m \u001b[0mupdate\u001b[0m\u001b[1;33m:\u001b[0m\u001b[1;33m\u001b[0m\u001b[1;33m\u001b[0m\u001b[0m\n\u001b[1;32m--> 306\u001b[1;33m         \u001b[0mself\u001b[0m\u001b[1;33m.\u001b[0m\u001b[0mget_contact\u001b[0m\u001b[1;33m(\u001b[0m\u001b[0mupdate\u001b[0m\u001b[1;33m=\u001b[0m\u001b[1;32mTrue\u001b[0m\u001b[1;33m)\u001b[0m\u001b[1;33m\u001b[0m\u001b[1;33m\u001b[0m\u001b[0m\n\u001b[0m\u001b[0;32m    307\u001b[0m     \u001b[1;32mreturn\u001b[0m \u001b[0mutils\u001b[0m\u001b[1;33m.\u001b[0m\u001b[0mcontact_deep_copy\u001b[0m\u001b[1;33m(\u001b[0m\u001b[0mself\u001b[0m\u001b[1;33m,\u001b[0m \u001b[0mself\u001b[0m\u001b[1;33m.\u001b[0m\u001b[0mmemberList\u001b[0m\u001b[1;33m)\u001b[0m\u001b[1;33m\u001b[0m\u001b[1;33m\u001b[0m\u001b[0m\n\u001b[0;32m    308\u001b[0m \u001b[1;33m\u001b[0m\u001b[0m\n",
      "\u001b[1;32m~\\anaconda3\\lib\\site-packages\\itchat\\components\\contact.py\u001b[0m in \u001b[0;36mget_contact\u001b[1;34m(self, update)\u001b[0m\n\u001b[0;32m    283\u001b[0m     \u001b[0mseq\u001b[0m\u001b[1;33m,\u001b[0m \u001b[0mmemberList\u001b[0m \u001b[1;33m=\u001b[0m \u001b[1;36m0\u001b[0m\u001b[1;33m,\u001b[0m \u001b[1;33m[\u001b[0m\u001b[1;33m]\u001b[0m\u001b[1;33m\u001b[0m\u001b[1;33m\u001b[0m\u001b[0m\n\u001b[0;32m    284\u001b[0m     \u001b[1;32mwhile\u001b[0m \u001b[1;36m1\u001b[0m\u001b[1;33m:\u001b[0m\u001b[1;33m\u001b[0m\u001b[1;33m\u001b[0m\u001b[0m\n\u001b[1;32m--> 285\u001b[1;33m         \u001b[0mseq\u001b[0m\u001b[1;33m,\u001b[0m \u001b[0mbatchMemberList\u001b[0m \u001b[1;33m=\u001b[0m \u001b[0m_get_contact\u001b[0m\u001b[1;33m(\u001b[0m\u001b[0mseq\u001b[0m\u001b[1;33m)\u001b[0m\u001b[1;33m\u001b[0m\u001b[1;33m\u001b[0m\u001b[0m\n\u001b[0m\u001b[0;32m    286\u001b[0m         \u001b[0mmemberList\u001b[0m\u001b[1;33m.\u001b[0m\u001b[0mextend\u001b[0m\u001b[1;33m(\u001b[0m\u001b[0mbatchMemberList\u001b[0m\u001b[1;33m)\u001b[0m\u001b[1;33m\u001b[0m\u001b[1;33m\u001b[0m\u001b[0m\n\u001b[0;32m    287\u001b[0m         \u001b[1;32mif\u001b[0m \u001b[0mseq\u001b[0m \u001b[1;33m==\u001b[0m \u001b[1;36m0\u001b[0m\u001b[1;33m:\u001b[0m\u001b[1;33m\u001b[0m\u001b[1;33m\u001b[0m\u001b[0m\n",
      "\u001b[1;32m~\\anaconda3\\lib\\site-packages\\itchat\\components\\contact.py\u001b[0m in \u001b[0;36m_get_contact\u001b[1;34m(seq)\u001b[0m\n\u001b[0;32m    268\u001b[0m     \u001b[1;32mdef\u001b[0m \u001b[0m_get_contact\u001b[0m\u001b[1;33m(\u001b[0m\u001b[0mseq\u001b[0m\u001b[1;33m=\u001b[0m\u001b[1;36m0\u001b[0m\u001b[1;33m)\u001b[0m\u001b[1;33m:\u001b[0m\u001b[1;33m\u001b[0m\u001b[1;33m\u001b[0m\u001b[0m\n\u001b[0;32m    269\u001b[0m         url = '%s/webwxgetcontact?r=%s&seq=%s&skey=%s' % (self.loginInfo['url'],\n\u001b[1;32m--> 270\u001b[1;33m             int(time.time()), seq, self.loginInfo['skey'])\n\u001b[0m\u001b[0;32m    271\u001b[0m         headers = {\n\u001b[0;32m    272\u001b[0m             \u001b[1;34m'ContentType'\u001b[0m\u001b[1;33m:\u001b[0m \u001b[1;34m'application/json; charset=UTF-8'\u001b[0m\u001b[1;33m,\u001b[0m\u001b[1;33m\u001b[0m\u001b[1;33m\u001b[0m\u001b[0m\n",
      "\u001b[1;31mKeyError\u001b[0m: 'skey'"
     ]
    }
   ],
   "source": [
    "#coding=utf8\n",
    "import itchat\n",
    " \n",
    "# 自动回复\n",
    "# 封装好的装饰器，当接收到的消息是Text，即文字消息\n",
    "@itchat.msg_register('Text')\n",
    "def text_reply(msg):\n",
    "    # 当消息不是由自己发出的时候\n",
    "    if not msg['FromUserName'] == myUserName:\n",
    "        # 发送一条提示给文件助手\n",
    "        itchat.send_msg(u\"[%s]收到好友@%s 的信息：%s\\n\" %\n",
    "                        (time.strftime(\"%Y-%m-%d %H:%M:%S\", time.localtime(msg['CreateTime'])),\n",
    "                         msg['User']['NickName'],\n",
    "                         msg['Text']), 'filehelper')\n",
    "        # 回复给好友\n",
    "        return u'[自动回复]您好，我现在有事不在，一会再和您联系。\\n已经收到您的的信息：%s\\n' % (msg['Text'])\n",
    "if __name__ == '__main__':\n",
    "    itchat.auto_login()\n",
    " \n",
    "    # 获取自己的UserName\n",
    "    myUserName = itchat.get_friends(update=True)[0][\"UserName\"]\n",
    "    itchat.run()"
   ]
  },
  {
   "cell_type": "code",
   "execution_count": 3,
   "id": "4e106f52",
   "metadata": {},
   "outputs": [
    {
     "name": "stderr",
     "output_type": "stream",
     "text": [
      "Getting uuid of QR code.\n",
      "Downloading QR code.\n",
      "Please scan the QR code to log in.\n",
      "Please press confirm on your phone.\n",
      "Your wechat account may be LIMITED to log in WEB wechat, error info:\n",
      "<error><ret>1203</ret><message>由于安全原因，此微信号不能使用网页版微信。你可以使用 Windows 版微信或 Mac 版微信登录。Windows 版微信下载地址：https://pc.weixin.qq.com  Mac 版微信下载地址：https://mac.weixin.qq.com</message></error>\n"
     ]
    },
    {
     "name": "stdout",
     "output_type": "stream",
     "text": [
      "{}\n"
     ]
    }
   ],
   "source": [
    "import itchat\n",
    "\n",
    "itchat.auto_login(hotReload=True)   #itchat.auto_login()自动登陆命令\n",
    "                                    # #hotReload为热加载即是否缓存\n",
    "# 统计你的好友的男女比例\n",
    "# friends是一个类似列表的数据类型, 其中第一个是自己的信息， 除了第一个之外是你的好友信息.\n",
    "friends = itchat.get_friends()\n",
    "\n",
    "info = {}  # 'male':1, 'female':, 'other':          #存储信息\n",
    "for friend in friends[1:]:                          #获取好友信息\n",
    "    if friend['Sex'] == 1:                          #判断好友性别，1为男性，2为女性，0为其他。\n",
    "        info['male'] = info.get('male', 0) + 1\n",
    "    elif friend['Sex'] == 2:\n",
    "        info['female'] = info.get('female', 0) + 1\n",
    "    else:\n",
    "        info['other'] = info.get('other', 0) + 1\n",
    "print(info)"
   ]
  }
 ],
 "metadata": {
  "kernelspec": {
   "display_name": "Python 3",
   "language": "python",
   "name": "python3"
  },
  "language_info": {
   "codemirror_mode": {
    "name": "ipython",
    "version": 3
   },
   "file_extension": ".py",
   "mimetype": "text/x-python",
   "name": "python",
   "nbconvert_exporter": "python",
   "pygments_lexer": "ipython3",
   "version": "3.8.10"
  }
 },
 "nbformat": 4,
 "nbformat_minor": 5
}
